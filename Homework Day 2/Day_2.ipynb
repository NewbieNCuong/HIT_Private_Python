{
  "nbformat": 4,
  "nbformat_minor": 0,
  "metadata": {
    "colab": {
      "provenance": [],
      "toc_visible": true
    },
    "kernelspec": {
      "name": "python3",
      "display_name": "Python 3"
    },
    "language_info": {
      "name": "python"
    }
  },
  "cells": [
    {
      "cell_type": "markdown",
      "source": [
        "#Có 3 cách print"
      ],
      "metadata": {
        "id": "ebwVO79x4ED_"
      }
    },
    {
      "cell_type": "code",
      "source": [
        "a, b = 5, 6\n",
        "print(\"{} + {} = {}\".format(a, b, a + b))\n",
        "print(f'{a} + {b} = {a + b}')\n",
        "print(\"a =\", a)"
      ],
      "metadata": {
        "colab": {
          "base_uri": "https://localhost:8080/"
        },
        "id": "bJTu6KYC4SpG",
        "outputId": "8fd347c9-39c4-4250-b77b-d2b74967a24b"
      },
      "execution_count": 6,
      "outputs": [
        {
          "output_type": "stream",
          "name": "stdout",
          "text": [
            "5 + 6 = 11\n",
            "5 + 6 = 11\n",
            "a = 5\n"
          ]
        }
      ]
    },
    {
      "cell_type": "markdown",
      "source": [
        "#Biến"
      ],
      "metadata": {
        "id": "JVjm9S-U5TSg"
      }
    },
    {
      "cell_type": "markdown",
      "source": [
        "Là tên một vùng nhớ RAM, khi chúng ta khởi tạo giá trị cho biến là chúng ta gán biến, mà việc gán biến chính là gán địa chỉ của biến cho địa chỉ của giá trị"
      ],
      "metadata": {
        "id": "AtXZ6vWO5dnt"
      }
    },
    {
      "cell_type": "code",
      "source": [
        "a = 5\n",
        "print(id(a))\n",
        "print(id(5))"
      ],
      "metadata": {
        "colab": {
          "base_uri": "https://localhost:8080/"
        },
        "id": "4SinDczG5bth",
        "outputId": "36811dad-fc3c-4852-af56-caf7511ec10e"
      },
      "execution_count": 7,
      "outputs": [
        {
          "output_type": "stream",
          "name": "stdout",
          "text": [
            "135887950758256\n",
            "135887950758256\n"
          ]
        }
      ]
    },
    {
      "cell_type": "markdown",
      "source": [
        "#Các loại kiểu dữ liệu"
      ],
      "metadata": {
        "id": "oQl1FjD86epH"
      }
    },
    {
      "cell_type": "markdown",
      "source": [
        "##Number: int, float, complex"
      ],
      "metadata": {
        "id": "ZVcmcbIH65mm"
      }
    },
    {
      "cell_type": "code",
      "source": [
        "a = 3 + 4j\n",
        "print(type(a))"
      ],
      "metadata": {
        "colab": {
          "base_uri": "https://localhost:8080/"
        },
        "id": "lZtHc5U37IwS",
        "outputId": "86c2655d-88e7-42ad-8d7b-e8d998254a46"
      },
      "execution_count": 8,
      "outputs": [
        {
          "output_type": "stream",
          "name": "stdout",
          "text": [
            "<class 'complex'>\n"
          ]
        }
      ]
    },
    {
      "cell_type": "markdown",
      "source": [
        "##String"
      ],
      "metadata": {
        "id": "wVX-NOS97ZH8"
      }
    },
    {
      "cell_type": "code",
      "source": [
        "a = 'Chuc mung nam moi'\n",
        "print(type(a))"
      ],
      "metadata": {
        "colab": {
          "base_uri": "https://localhost:8080/"
        },
        "id": "88N_j1km7dhX",
        "outputId": "68c639c5-b52f-46a7-c145-679c9b91f195"
      },
      "execution_count": 9,
      "outputs": [
        {
          "output_type": "stream",
          "name": "stdout",
          "text": [
            "<class 'str'>\n"
          ]
        }
      ]
    },
    {
      "cell_type": "markdown",
      "source": [
        "##Mutable: list([])"
      ],
      "metadata": {
        "id": "DvaQPj327jyI"
      }
    },
    {
      "cell_type": "code",
      "source": [
        "a = [1, 2, 3, 4, 5]\n",
        "print(a)"
      ],
      "metadata": {
        "colab": {
          "base_uri": "https://localhost:8080/"
        },
        "id": "d8byXu018IY7",
        "outputId": "f09cf03d-92c2-4e0e-c74c-32a153f78806"
      },
      "execution_count": 11,
      "outputs": [
        {
          "output_type": "stream",
          "name": "stdout",
          "text": [
            "[1, 2, 3, 4, 5]\n"
          ]
        }
      ]
    },
    {
      "cell_type": "markdown",
      "source": [
        "##Immutable: tuple, dictionary"
      ],
      "metadata": {
        "id": "m5Ou4Yni9HjH"
      }
    },
    {
      "cell_type": "code",
      "source": [
        "b = (1, 2, 4, 5, 6)\n",
        "print(type(b))"
      ],
      "metadata": {
        "colab": {
          "base_uri": "https://localhost:8080/"
        },
        "id": "ikIc-0Ng8RDP",
        "outputId": "f706a99e-0a87-438e-db2b-80da739fe6a3"
      },
      "execution_count": 13,
      "outputs": [
        {
          "output_type": "stream",
          "name": "stdout",
          "text": [
            "<class 'tuple'>\n"
          ]
        }
      ]
    },
    {
      "cell_type": "code",
      "source": [
        "c = {1, 2, 3, 4,}\n",
        "print(type(c))"
      ],
      "metadata": {
        "colab": {
          "base_uri": "https://localhost:8080/"
        },
        "id": "hWe3fpBX8gI-",
        "outputId": "033356ea-9544-46aa-b495-1f7c9c6e94b1"
      },
      "execution_count": 14,
      "outputs": [
        {
          "output_type": "stream",
          "name": "stdout",
          "text": [
            "<class 'set'>\n"
          ]
        }
      ]
    },
    {
      "cell_type": "code",
      "source": [
        "d = {\n",
        "    1: 'mot',\n",
        "    2: 'hai',\n",
        "    3: 'ba'\n",
        "}\n",
        "print(type(d))"
      ],
      "metadata": {
        "colab": {
          "base_uri": "https://localhost:8080/"
        },
        "id": "coQIxbbj8j1Q",
        "outputId": "6b51381f-761a-4290-921c-b6f98022a851"
      },
      "execution_count": 17,
      "outputs": [
        {
          "output_type": "stream",
          "name": "stdout",
          "text": [
            "<class 'dict'>\n"
          ]
        }
      ]
    },
    {
      "cell_type": "markdown",
      "source": [
        "#Các toán tử cơ bản"
      ],
      "metadata": {
        "id": "11r5GA6h-hO1"
      }
    },
    {
      "cell_type": "markdown",
      "source": [
        "## +,-,*, /,//, **, >=, <=, >, <, ==, :=, and, or, not, &, |, ^, ~, <<, >>"
      ],
      "metadata": {
        "id": "ydb-B8Vd_atf"
      }
    }
  ]
}