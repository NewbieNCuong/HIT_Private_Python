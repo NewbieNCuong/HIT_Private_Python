{
  "nbformat": 4,
  "nbformat_minor": 0,
  "metadata": {
    "colab": {
      "provenance": [],
      "toc_visible": true,
      "gpuType": "T4"
    },
    "kernelspec": {
      "name": "python3",
      "display_name": "Python 3"
    },
    "language_info": {
      "name": "python"
    }
  },
  "cells": [
    {
      "cell_type": "markdown",
      "source": [
        "# Trả lời câu hỏi"
      ],
      "metadata": {
        "id": "0_ISAkLs7eyK"
      }
    },
    {
      "cell_type": "markdown",
      "source": [
        "## Câu 1:\n"
      ],
      "metadata": {
        "id": "VfesRXGJ7pLU"
      }
    },
    {
      "cell_type": "markdown",
      "source": [
        "Câu 1: Python có thể làm được rất nhiều việc như:\n",
        "\n",
        "    +) Phát triển về web có: Django(Nó cung cấp nhiều tính năng như hệ thống cơ sở dữ liệu, ..), Tornado(Nó phù hợp cho việc xây dựng web thời gian thực, yêu cầu hiệu suất cao)\n",
        "    +) Phát triển cho Khoa học tính toán(Scientific and numeric) có: numpy(hỗ trợ nhiều về mảng nhiều chiều), pandas(hỗ trợ phân tích dữ liệu, khoa học dữ liệu, hỗ trợ trực quan hóa dữ liệu)\n",
        "    +) Trí tuệ nhân tạo có: Tensorflow(Được phát triển bởi google - Hỗ trợ lĩnh vực deep learning - huấn luyện các mô hình mạng nơ-ron sâu), Pytorch(Được phát triển bởi facebook - nó cũng giúp về deep learning nhưng nó còn giúp tăng tốc độ huấn luyện mô hình), scikit-learn(Nó cung cấp hàng loạt các thuật toán học máy cổ điển), OpenCV(Nó hỗ trợ về xử lý ảnh và thị giác máy tính)\n",
        "    +) Phát triển game: Có pygame(Nhưng thường dùng để tạo game nhỏ)"
      ],
      "metadata": {
        "id": "qzvBFPH26Fnj"
      }
    },
    {
      "cell_type": "markdown",
      "source": [
        "##Câu 2:"
      ],
      "metadata": {
        "id": "_uJL_DoC8_P2"
      }
    },
    {
      "cell_type": "markdown",
      "source": [
        "- Giống nhau: Đều là ngôn ngữ bậc cao\n",
        "- Khác nhau:\n",
        "+) Python: syntax dễ hiểu hơn giống với ngôn ngữ con người hơn, chạy bằng thông dịch(thực thi từng dòng code - sai đâu báo đấy luôn), học python thì thiên sử dụng về hàm hơn, là ngôn ngữ hướng đối tượng(mọi thứ trong python đều là đối tượng), ngôn ngữ không cần đặt kiểu dữ liệu, tốc độ chạy chậm hơn C++\n",
        "+) C++: sytax khó hiểu hơn python chút, chạy bằng biên dịch(Nó sẽ chạy bằng mã máy ra một file .exe và sẽ chạy file đó để chạy ctrinh), học C++ thiên về thi đấu lập trình vì nó hỗ trợ thư viện STL(rất nhiều công cụ) - đặc biệt code thực thi sẽ nhanh hơn. Với theo em tìm hiểu thì thấy java vừa biên dịch vừa thông dịch(Nó chạy thông qua một môi trường ảo là JVM-Nhưng cx nghiêng về biên dịch nhiều hơn)"
      ],
      "metadata": {
        "id": "Zqs5t8Ua8A3D"
      }
    },
    {
      "cell_type": "markdown",
      "source": [
        "##Câu 3:"
      ],
      "metadata": {
        "id": "ZRomzsbt9J9b"
      }
    },
    {
      "cell_type": "markdown",
      "source": [
        "Python là ngôn ngữ thông dịch. Vì khi nó chạy ctrinh sẽ không tạo ra file .exe giống C++(biên dịch trung gian) mà nó sẽ chạy từng dòng code và thực thi chúng(Điều này cũng giúp-> Phát hiện lỗi code nhanh hơn)"
      ],
      "metadata": {
        "id": "1EfUI3PV9foB"
      }
    },
    {
      "cell_type": "markdown",
      "source": [
        "##Câu 5:"
      ],
      "metadata": {
        "id": "WLmB3GNN9lZ7"
      }
    },
    {
      "cell_type": "markdown",
      "source": [
        "###1) Cách khai báo biến nói chung là khai báo thông qua cách gán giá trị hoặc không"
      ],
      "metadata": {
        "id": "0wikCzhl_ujM"
      }
    },
    {
      "cell_type": "code",
      "source": [
        "a = 5\n",
        "b = None\n",
        "print(a, b)"
      ],
      "metadata": {
        "colab": {
          "base_uri": "https://localhost:8080/"
        },
        "id": "ifFvrRsk_8MX",
        "outputId": "7c49d953-81bf-48a3-cb0e-b61e385b419d"
      },
      "execution_count": 2,
      "outputs": [
        {
          "output_type": "stream",
          "name": "stdout",
          "text": [
            "5 None\n"
          ]
        }
      ]
    },
    {
      "cell_type": "markdown",
      "source": [
        "###2) Các toán tử trong python:\n",
        "- Toán tử số học: +, - , *, :, **(phép lũy thừa), %(chia dư), //(Chia lấy nguyên)\n",
        "- Toán tử gán: +=, -=, *=, /=\n",
        "- Toán từ so sánh: >, <, >=, <=, ==, !=\n",
        "- Toán tử logic: and, or , not\n",
        "- Toán tử chuỗi: +(cộng chuỗi), *(nhân chuỗi lên)"
      ],
      "metadata": {
        "id": "jM1v1LhiAKbI"
      }
    },
    {
      "cell_type": "code",
      "source": [
        "print(5 + 6)\n",
        "a, b = 5, 6\n",
        "a += b\n",
        "print(a)\n",
        "print(a > b)\n",
        "if(a > 0 and b > 0): print(\"YES\")\n",
        "x, y = \"Tôi \", \"Yêu Em\"\n",
        "print(x + y)"
      ],
      "metadata": {
        "colab": {
          "base_uri": "https://localhost:8080/"
        },
        "id": "EBOoOk4iAVTC",
        "outputId": "d3b460c9-115a-479b-b496-53acb5716ad4"
      },
      "execution_count": 2,
      "outputs": [
        {
          "output_type": "stream",
          "name": "stdout",
          "text": [
            "11\n",
            "11\n",
            "True\n",
            "YES\n",
            "Tôi Yêu Em\n"
          ]
        }
      ]
    },
    {
      "cell_type": "markdown",
      "source": [
        "###3) Các kiểu dữ liệu trong python:\n",
        "\n",
        "o\tInterger: Số nguyên – giống trong C++ - chỉ khác là lưu được số lớn, rất lớn\n",
        "\n",
        "o\tFloat: Số thực – giống trong C++\n",
        "\n",
        "o\tString: chuỗi – giống trong C++\n",
        "\n",
        "o\tBoolean: Đúng hoặc sai\n",
        "\n",
        "o\tList: danh sách, có thể chứa nhiều kiểu dữ liệu. Có nhiều hàm như:\n",
        "\n",
        "  \tHàm thêm:\n",
        "  •\tAppend: thêm vào cuối phần tử. ĐPT: O(1)\n",
        "  •\tInsert: thêm vào vị trí mình muốn. ĐPT: O(n)\n",
        "  •\tExtend: thêm nhiều phần tử vào cuối một lúc\n",
        "\n",
        "  \tHàm xóa:\n",
        "  •\t.pop(): xóa theo vị trí hoặc xóa vị trí cuối\n",
        "  •\tDel a[i]: xóa theo vị trí mà không trả về\n",
        "  •\t.clear(): Xoá hết\n",
        "\n",
        "  \tHàm đảo ngược: .reverse()\n",
        "  ….Nhiều hàm Buil-in khác\n",
        "\n",
        "Tuple: là kiểu dữ liệu immutable(bất biến), nhanh hơn list, còn lại cx gần giống list, nằm trong ngoặc đơn\n",
        "\n",
        "Set: là kiểu dữ liệu mutable(có thể thay đổi), chỉ chứa duy nhất một phần tử, nằm trong ngoặc nhọn. Giữa các set có thể có các hợp(|: Kiểu như là hợp 2 set), giao(&: lấy sự giống nhau giữa 2 set), hiệu(-: lấy sự khác nhau của A đối với B), bù(^: lấy sự khác nhau giữa 2 set)\n",
        "\n",
        "o\tDictionary: là kiểu lưu dữ liệu giống map trong c++. Có key và value, key và value có thể là kiểu dữ liệu như interger, float, string.\n"
      ],
      "metadata": {
        "id": "rEaObQWQBO4n"
      }
    },
    {
      "cell_type": "code",
      "source": [
        "a = [1, 2, 3, 4, 6]\n",
        "print(a)\n",
        "a.append(7)\n",
        "print(a)\n",
        "b = (1, 2, 3, 4, 5, 10, 11, 12)\n",
        "print(b.index(1))\n",
        "print(b)\n",
        "c = {1, 2, 3, 4, 5,}\n",
        "print(type(c))\n",
        "d = {4, 5, 6, 7, 8}\n",
        "print(c | d)\n",
        "print(c & d)\n",
        "print(c - d)\n",
        "print(c ^ d)\n",
        "e = {\n",
        "    1: 'mot',\n",
        "    2: 'hai',\n",
        "    3: 'ba'\n",
        "}\n",
        "for key, val in enumerate(e):\n",
        "  print(key, val)"
      ],
      "metadata": {
        "colab": {
          "base_uri": "https://localhost:8080/"
        },
        "id": "x1_Pqb6Qcl2A",
        "outputId": "1ebeecec-1bd9-4a7d-9de2-eb97fe484941"
      },
      "execution_count": 3,
      "outputs": [
        {
          "output_type": "stream",
          "name": "stdout",
          "text": [
            "[1, 2, 3, 4, 6]\n",
            "[1, 2, 3, 4, 6, 7]\n",
            "0\n",
            "(1, 2, 3, 4, 5, 10, 11, 12)\n",
            "<class 'set'>\n",
            "{1, 2, 3, 4, 5, 6, 7, 8}\n",
            "{4, 5}\n",
            "{1, 2, 3}\n",
            "{1, 2, 3, 6, 7, 8}\n",
            "0 1\n",
            "1 2\n",
            "2 3\n"
          ]
        }
      ]
    }
  ]
}