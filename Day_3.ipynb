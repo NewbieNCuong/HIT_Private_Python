{
  "nbformat": 4,
  "nbformat_minor": 0,
  "metadata": {
    "colab": {
      "provenance": []
    },
    "kernelspec": {
      "name": "python3",
      "display_name": "Python 3"
    },
    "language_info": {
      "name": "python"
    }
  },
  "cells": [
    {
      "cell_type": "markdown",
      "source": [
        "#Bài 1"
      ],
      "metadata": {
        "id": "hBrEvB8BA1yO"
      }
    },
    {
      "cell_type": "code",
      "execution_count": 3,
      "metadata": {
        "colab": {
          "base_uri": "https://localhost:8080/"
        },
        "id": "m3B7OVwuAvnj",
        "outputId": "0fdce2af-23ee-49e4-9086-e4ae328aa2ce"
      },
      "outputs": [
        {
          "output_type": "stream",
          "name": "stdout",
          "text": [
            "1\n",
            "2\n",
            "3\n",
            "4\n",
            "5\n",
            "6\n",
            "Không phải Tam Giác\n"
          ]
        }
      ],
      "source": [
        "import math\n",
        "def calculatecanh(a, b, c, d):\n",
        "    return math.sqrt((a-c)**2 + (b - d) ** 2)\n",
        "\n",
        "a = []\n",
        "for i in range(0, 6):\n",
        "    a.append(int(input()))\n",
        "\n",
        "d1 = calculatecanh(a[0], a[1], a[2], a[3])\n",
        "d2 = calculatecanh(a[0], a[1], a[4], a[5])\n",
        "d3 = calculatecanh(a[4], a[5], a[2], a[3])\n",
        "if(d1 != 0 and d2 != 0 and d3 != 0 and (d1 + d2 > d3) and (d1 + d3 > d2) and (d2 + d3 > d1)):\n",
        "    print(\"Tam giác\")\n",
        "else:\n",
        "    print(\"Không phải Tam Giác\")"
      ]
    },
    {
      "cell_type": "markdown",
      "source": [
        "#Bài 2"
      ],
      "metadata": {
        "id": "2oH9BdK2GsXL"
      }
    },
    {
      "cell_type": "code",
      "source": [
        "n, m = int(input()), int(input())\n",
        "for i in range(0, n):\n",
        "    q = m\n",
        "    x = int(input())\n",
        "    y = 0\n",
        "    z = 0\n",
        "    tmp = x\n",
        "    cnt = 0\n",
        "    while tmp > 0:\n",
        "        tmp //= 10\n",
        "        cnt += 1\n",
        "    tmp2 = cnt - q\n",
        "    tmp3 = cnt - q\n",
        "    while x > 0:\n",
        "        if(q > 0):\n",
        "            tmp1 = x % 10\n",
        "            x //= 10\n",
        "            y += tmp1 * (10 ** (q - 1))\n",
        "            q -= 1\n",
        "        else:\n",
        "            tmp1 = x % 10\n",
        "            x //= 10\n",
        "            z += tmp1 * (10 ** tmp2)\n",
        "            tmp2 -= 1\n",
        "    a = 0\n",
        "    while z > 0:\n",
        "        tmp1 = z % 10\n",
        "        z //= 10\n",
        "        a += tmp1 * (10 ** tmp3)\n",
        "        tmp3 -= 1\n",
        "    print(a, end = \"\")\n",
        "    print(y)"
      ],
      "metadata": {
        "colab": {
          "base_uri": "https://localhost:8080/"
        },
        "id": "MkyaWJNIGuD2",
        "outputId": "a1e873e5-9ff7-467e-b9a5-d1365c42dc8c"
      },
      "execution_count": 4,
      "outputs": [
        {
          "output_type": "stream",
          "name": "stdout",
          "text": [
            "2\n",
            "3\n",
            "123456\n",
            "123654\n",
            "456789\n",
            "456987\n"
          ]
        }
      ]
    },
    {
      "cell_type": "markdown",
      "source": [
        "#Bài 3"
      ],
      "metadata": {
        "id": "rIFjz5khbK4W"
      }
    },
    {
      "cell_type": "code",
      "source": [
        "k = int(input())\n",
        "for i in range(1, k + 1):\n",
        "    a, b, c = str(input()), int(input()), int(input())\n",
        "    d = b + c\n",
        "    if(d >= 190):\n",
        "        print(i, a, d, \"Xuất Sắc\", sep = \" \")\n",
        "    elif(d >= 150):\n",
        "        print(i, a, d, \"Giỏi\", sep = \" \")\n",
        "    elif(d >= 100):\n",
        "        print(i, a, d, \"Khá\", sep = \" \")\n",
        "    else:\n",
        "        print(i, a, d, \"Yếu\", sep = \" \")\n"
      ],
      "metadata": {
        "colab": {
          "base_uri": "https://localhost:8080/"
        },
        "id": "1fr6QqPObNDi",
        "outputId": "56a6c177-0a50-4a1b-d868-170515f2e7aa"
      },
      "execution_count": 5,
      "outputs": [
        {
          "output_type": "stream",
          "name": "stdout",
          "text": [
            "2\n",
            "Tiến\n",
            "50\n",
            "60\n",
            "1 Tiến 110 Khá\n",
            "Đông\n",
            "70\n",
            "90\n",
            "2 Đông 160 Giỏi\n"
          ]
        }
      ]
    },
    {
      "cell_type": "markdown",
      "source": [
        "#Bài 4"
      ],
      "metadata": {
        "id": "TzBqBIuIc7TX"
      }
    },
    {
      "cell_type": "code",
      "source": [
        "x = int(input())\n",
        "print(\"NO\")"
      ],
      "metadata": {
        "colab": {
          "base_uri": "https://localhost:8080/"
        },
        "id": "jezMcmZqc8_T",
        "outputId": "d3dbaa84-d7c5-4a27-be35-6e70e12e835d"
      },
      "execution_count": 6,
      "outputs": [
        {
          "output_type": "stream",
          "name": "stdout",
          "text": [
            "10\n",
            "NO\n"
          ]
        }
      ]
    }
  ]
}